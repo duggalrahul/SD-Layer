{
 "cells": [
  {
   "cell_type": "code",
   "execution_count": 1,
   "metadata": {
    "collapsed": false
   },
   "outputs": [
    {
     "name": "stderr",
     "output_type": "stream",
     "text": [
      "Using cuDNN version 6021 on context None\n",
      "Mapped name None to device cuda: GeForce GTX 1080 (0000:02:00.0)\n",
      "Using Theano backend.\n"
     ]
    }
   ],
   "source": [
    "from alexnet_base import *\n",
    "from utils import *"
   ]
  },
  {
   "cell_type": "code",
   "execution_count": 2,
   "metadata": {
    "collapsed": false
   },
   "outputs": [],
   "source": [
    "def get_datagen(folder_path):  \n",
    "    # this is the augmentation configuration we will use for training\n",
    "    train_datagen = ImageDataGenerator(\n",
    "    #         rescale=1./255,\n",
    "            vertical_flip=True,\n",
    "            rotation_range=180,\n",
    "            horizontal_flip=True)\n",
    "\n",
    "    # this is a generator that will read pictures found in\n",
    "    # subfolers of 'data/train', and indefinitely generate\n",
    "    # batches of augmented image data\n",
    "    train_generator = train_datagen.flow_from_directory(\n",
    "            folder_path,  # this is the target directory        \n",
    "            batch_size=64,\n",
    "            shuffle=True,\n",
    "            class_mode='categorical')  # since we use binary_crossentropy loss, we need binary labels\n",
    "    \n",
    "    return train_generator\n",
    "\n"
   ]
  },
  {
   "cell_type": "code",
   "execution_count": null,
   "metadata": {
    "collapsed": false,
    "scrolled": false
   },
   "outputs": [
    {
     "name": "stdout",
     "output_type": "stream",
     "text": [
      "Found 5718 images belonging to 2 classes.\n",
      "Epoch 1/1\n",
      " 384/5718 [=>............................] - ETA: 66s - loss: 0.2609 - acc: 0.4974"
     ]
    }
   ],
   "source": [
    "num_folds = 1\n",
    "lr_init = 0.01\n",
    "decay = 0.0005\n",
    "\n",
    "   \n",
    "best_test_acc = 0.0\n",
    "performance = {}\n",
    "csv_file_name = './Train_Stats/csvlog.csv'\n",
    "best_model_name = '../models/best_model.hdf5'\n",
    "training_images_folder_path = '../../Data/Data_New/Train'\n",
    "evaluating_images_folder_path = '../../Data/Data_New/Val'\n",
    "num_epochs = 250\n",
    "    \n",
    "train_generator = get_datagen(training_images_folder_path)\n",
    "\n",
    "alexnet = None    \n",
    "alexnet = get_alexnet(lr_init,decay)\n",
    "\n",
    "lr = lr_init\n",
    "\n",
    "for epoch in range(num_epochs): \n",
    "\n",
    "    if epoch == 170 or epoch == 220  :           \n",
    "        lr = lr/10.0\n",
    "        alexnet.optimizer.lr.set_value(lr)\n",
    "        print 'Reducing learning rate to ', lr\n",
    "\n",
    "    history = alexnet.fit_generator(train_generator,\n",
    "                                    samples_per_epoch=train_generator.nb_sample,\n",
    "                                    nb_epoch=1,\n",
    "                                    verbose=1)\n",
    "\n",
    "    performance = evaluate_model_and_append(alexnet,evaluating_images_folder_path, csv_file_name,performance, history)      \n",
    "    print 'epoch : {0} - test_acc : {1} - test_f1 : {2} - test_precision : {3} - test_recall : {4}'.format(str(epoch),performance['test_acc'][-1],\\\n",
    "                                                                                             performance['test_f1'][-1],\\\n",
    "                                                                                             performance['test_prec'][-1],\\\n",
    "                                                                                             performance['test_rec'][-1])\n",
    "\n",
    "    plot_performance(performance,'./Train_Stats/')\n",
    "\n",
    "    if best_test_acc < performance['test_acc'][-1]:\n",
    "        print 'best_epoch {0}'.format(epoch)\n",
    "        best_test_acc = performance['test_acc'][-1]\n",
    "        alexnet.save(best_model_name)"
   ]
  },
  {
   "cell_type": "code",
   "execution_count": 4,
   "metadata": {
    "collapsed": false,
    "scrolled": true
   },
   "outputs": [
    {
     "name": "stdout",
     "output_type": "stream",
     "text": [
      "____________________________________________________________________________________________________\n",
      "Layer (type)                     Output Shape          Param #     Connected to                     \n",
      "====================================================================================================\n",
      "input_1 (InputLayer)             (None, 3, None, None) 0                                            \n",
      "____________________________________________________________________________________________________\n",
      "embed (Lambda)                   (None, 3, 400, 400)   0           input_1[0][0]                    \n",
      "____________________________________________________________________________________________________\n",
      "odlayer_1 (ODLayer)              (None, 3, 400, 400)   9           embed[0][0]                      \n",
      "____________________________________________________________________________________________________\n",
      "conv_1 (Convolution2D)           (None, 96, 98, 98)    34944       odlayer_1[0][0]                  \n",
      "____________________________________________________________________________________________________\n",
      "maxpooling2d_1 (MaxPooling2D)    (None, 96, 48, 48)    0           conv_1[0][0]                     \n",
      "____________________________________________________________________________________________________\n",
      "convpool_1 (Lambda)              (None, 96, 48, 48)    0           maxpooling2d_1[0][0]             \n",
      "____________________________________________________________________________________________________\n",
      "zeropadding2d_1 (ZeroPadding2D)  (None, 96, 52, 52)    0           convpool_1[0][0]                 \n",
      "____________________________________________________________________________________________________\n",
      "lambda_1 (Lambda)                (None, 48, 52, 52)    0           zeropadding2d_1[0][0]            \n",
      "____________________________________________________________________________________________________\n",
      "lambda_2 (Lambda)                (None, 48, 52, 52)    0           zeropadding2d_1[0][0]            \n",
      "____________________________________________________________________________________________________\n",
      "conv_2_1 (Convolution2D)         (None, 128, 48, 48)   153728      lambda_1[0][0]                   \n",
      "____________________________________________________________________________________________________\n",
      "conv_2_2 (Convolution2D)         (None, 128, 48, 48)   153728      lambda_2[0][0]                   \n",
      "____________________________________________________________________________________________________\n",
      "conv_2 (Merge)                   (None, 256, 48, 48)   0           conv_2_1[0][0]                   \n",
      "                                                                   conv_2_2[0][0]                   \n",
      "____________________________________________________________________________________________________\n",
      "maxpooling2d_2 (MaxPooling2D)    (None, 256, 23, 23)   0           conv_2[0][0]                     \n",
      "____________________________________________________________________________________________________\n",
      "lambda_3 (Lambda)                (None, 256, 23, 23)   0           maxpooling2d_2[0][0]             \n",
      "____________________________________________________________________________________________________\n",
      "zeropadding2d_2 (ZeroPadding2D)  (None, 256, 25, 25)   0           lambda_3[0][0]                   \n",
      "____________________________________________________________________________________________________\n",
      "conv_3 (Convolution2D)           (None, 384, 23, 23)   885120      zeropadding2d_2[0][0]            \n",
      "____________________________________________________________________________________________________\n",
      "zeropadding2d_3 (ZeroPadding2D)  (None, 384, 25, 25)   0           conv_3[0][0]                     \n",
      "____________________________________________________________________________________________________\n",
      "lambda_4 (Lambda)                (None, 192, 25, 25)   0           zeropadding2d_3[0][0]            \n",
      "____________________________________________________________________________________________________\n",
      "lambda_5 (Lambda)                (None, 192, 25, 25)   0           zeropadding2d_3[0][0]            \n",
      "____________________________________________________________________________________________________\n",
      "conv_4_1 (Convolution2D)         (None, 192, 23, 23)   331968      lambda_4[0][0]                   \n",
      "____________________________________________________________________________________________________\n",
      "conv_4_2 (Convolution2D)         (None, 192, 23, 23)   331968      lambda_5[0][0]                   \n",
      "____________________________________________________________________________________________________\n",
      "conv_4 (Merge)                   (None, 384, 23, 23)   0           conv_4_1[0][0]                   \n",
      "                                                                   conv_4_2[0][0]                   \n",
      "____________________________________________________________________________________________________\n",
      "zeropadding2d_4 (ZeroPadding2D)  (None, 384, 25, 25)   0           conv_4[0][0]                     \n",
      "____________________________________________________________________________________________________\n",
      "lambda_6 (Lambda)                (None, 192, 25, 25)   0           zeropadding2d_4[0][0]            \n",
      "____________________________________________________________________________________________________\n",
      "lambda_7 (Lambda)                (None, 192, 25, 25)   0           zeropadding2d_4[0][0]            \n",
      "____________________________________________________________________________________________________\n",
      "conv_5_1 (Convolution2D)         (None, 128, 23, 23)   221312      lambda_6[0][0]                   \n",
      "____________________________________________________________________________________________________\n",
      "conv_5_2 (Convolution2D)         (None, 128, 23, 23)   221312      lambda_7[0][0]                   \n",
      "____________________________________________________________________________________________________\n",
      "conv_5 (Merge)                   (None, 256, 23, 23)   0           conv_5_1[0][0]                   \n",
      "                                                                   conv_5_2[0][0]                   \n",
      "____________________________________________________________________________________________________\n",
      "mypool (myPool)                  (None, 256, 1, 1)     0           conv_5[0][0]                     \n",
      "____________________________________________________________________________________________________\n",
      "flatten (Flatten)                (None, 256)           0           mypool[0][0]                     \n",
      "____________________________________________________________________________________________________\n",
      "dense_1_rahul (Dense)            (None, 4096)          1052672     flatten[0][0]                    \n",
      "____________________________________________________________________________________________________\n",
      "dropout_1 (Dropout)              (None, 4096)          0           dense_1_rahul[0][0]              \n",
      "____________________________________________________________________________________________________\n",
      "dense_2_rahul (Dense)            (None, 4096)          16781312    dropout_1[0][0]                  \n",
      "____________________________________________________________________________________________________\n",
      "dropout_2 (Dropout)              (None, 4096)          0           dense_2_rahul[0][0]              \n",
      "____________________________________________________________________________________________________\n",
      "dense_3_rahul (Dense)            (None, 2)             8194        dropout_2[0][0]                  \n",
      "____________________________________________________________________________________________________\n",
      "softmax (Activation)             (None, 2)             0           dense_3_rahul[0][0]              \n",
      "====================================================================================================\n",
      "Total params: 20,176,267\n",
      "Trainable params: 20,176,267\n",
      "Non-trainable params: 0\n",
      "____________________________________________________________________________________________________\n",
      "None\n"
     ]
    }
   ],
   "source": [
    "print alexnet.summary()"
   ]
  },
  {
   "cell_type": "code",
   "execution_count": 4,
   "metadata": {
    "collapsed": false
   },
   "outputs": [
    {
     "name": "stdout",
     "output_type": "stream",
     "text": [
      "0.903785488959\n"
     ]
    }
   ],
   "source": [
    "print(np.max(performance['test_acc']))"
   ]
  },
  {
   "cell_type": "code",
   "execution_count": 5,
   "metadata": {
    "collapsed": false
   },
   "outputs": [
    {
     "name": "stdout",
     "output_type": "stream",
     "text": [
      "179\n"
     ]
    }
   ],
   "source": [
    "print(np.argmax(performance['test_acc']))"
   ]
  },
  {
   "cell_type": "code",
   "execution_count": 7,
   "metadata": {
    "collapsed": false
   },
   "outputs": [
    {
     "name": "stdout",
     "output_type": "stream",
     "text": [
      "0.903785488959\n"
     ]
    }
   ],
   "source": [
    "print((performance['test_acc'][179]))"
   ]
  },
  {
   "cell_type": "code",
   "execution_count": null,
   "metadata": {
    "collapsed": true
   },
   "outputs": [],
   "source": []
  }
 ],
 "metadata": {
  "anaconda-cloud": {},
  "kernelspec": {
   "display_name": "Python 2",
   "language": "python",
   "name": "python2"
  },
  "language_info": {
   "codemirror_mode": {
    "name": "ipython",
    "version": 2
   },
   "file_extension": ".py",
   "mimetype": "text/x-python",
   "name": "python",
   "nbconvert_exporter": "python",
   "pygments_lexer": "ipython2",
   "version": "2.7.12"
  }
 },
 "nbformat": 4,
 "nbformat_minor": 0
}
